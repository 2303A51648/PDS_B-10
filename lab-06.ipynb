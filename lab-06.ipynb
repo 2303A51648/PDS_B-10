{
  "nbformat": 4,
  "nbformat_minor": 0,
  "metadata": {
    "colab": {
      "provenance": [],
      "authorship_tag": "ABX9TyMMF9oXxPZIYq81xTxQMDWf",
      "include_colab_link": true
    },
    "kernelspec": {
      "name": "python3",
      "display_name": "Python 3"
    },
    "language_info": {
      "name": "python"
    }
  },
  "cells": [
    {
      "cell_type": "markdown",
      "metadata": {
        "id": "view-in-github",
        "colab_type": "text"
      },
      "source": [
        "<a href=\"https://colab.research.google.com/github/2303A51648/PDS_B-10/blob/main/lab-06.ipynb\" target=\"_parent\"><img src=\"https://colab.research.google.com/assets/colab-badge.svg\" alt=\"Open In Colab\"/></a>"
      ]
    },
    {
      "cell_type": "code",
      "execution_count": 1,
      "metadata": {
        "colab": {
          "base_uri": "https://localhost:8080/"
        },
        "id": "GcBDlpP39oIu",
        "outputId": "550fd2c3-fe4c-41ab-efde-d51cfe1d57d3"
      },
      "outputs": [
        {
          "output_type": "stream",
          "name": "stdout",
          "text": [
            "Original Sales Dataset with Duplicates:\n",
            "    Transaction_ID   Product  Quantity  Price        Date\n",
            "0              101    Laptop         1   1000  2023-09-15\n",
            "1              102     Mouse         2     50  2023-09-16\n",
            "2              103  Keyboard         1     30  2023-09-17\n",
            "3              104   Monitor         1    150  2023-09-18\n",
            "4              105    Laptop         1   1000  2023-09-15\n",
            "5              106     Mouse         2     50  2023-09-16\n",
            "6              107  Keyboard         1     30  2023-09-17\n",
            "7              108   Monitor         1    150  2023-09-18\n",
            "8              109    Laptop         1   1000  2023-09-15\n",
            "9              110    Laptop         1   1000  2023-09-15\n",
            "10             102     Mouse         2     50  2023-09-16\n",
            "11             103  Keyboard         1     30  2023-09-17\n",
            "12             107  Keyboard         1     30  2023-09-17\n",
            "13             108   Monitor         1    150  2023-09-18\n",
            "\n",
            "Duplicate Rows:\n",
            "    Transaction_ID   Product  Quantity  Price        Date\n",
            "10             102     Mouse         2     50  2023-09-16\n",
            "11             103  Keyboard         1     30  2023-09-17\n",
            "12             107  Keyboard         1     30  2023-09-17\n",
            "13             108   Monitor         1    150  2023-09-18\n",
            "\n",
            "Cleaned Sales Dataset (Duplicates Removed):\n",
            "   Transaction_ID   Product  Quantity  Price        Date\n",
            "0             101    Laptop         1   1000  2023-09-15\n",
            "1             102     Mouse         2     50  2023-09-16\n",
            "2             103  Keyboard         1     30  2023-09-17\n",
            "3             104   Monitor         1    150  2023-09-18\n",
            "4             105    Laptop         1   1000  2023-09-15\n",
            "5             106     Mouse         2     50  2023-09-16\n",
            "6             107  Keyboard         1     30  2023-09-17\n",
            "7             108   Monitor         1    150  2023-09-18\n",
            "8             109    Laptop         1   1000  2023-09-15\n",
            "9             110    Laptop         1   1000  2023-09-15\n",
            "\n",
            "Number of Duplicates Before Removal: 4\n",
            "Number of Duplicates After Removal: 0\n"
          ]
        }
      ],
      "source": [
        "import pandas as pd\n",
        "\n",
        "# Create a sample sales dataset with some duplicates\n",
        "data = {\n",
        "    'Transaction_ID': [101, 102, 103, 104, 105, 106, 107, 108, 109, 110],\n",
        "    'Product': ['Laptop', 'Mouse', 'Keyboard', 'Monitor', 'Laptop', 'Mouse', 'Keyboard', 'Monitor', 'Laptop', 'Laptop'],\n",
        "    'Quantity': [1, 2, 1, 1, 1, 2, 1, 1, 1, 1],\n",
        "    'Price': [1000, 50, 30, 150, 1000, 50, 30, 150, 1000, 1000],\n",
        "    'Date': ['2023-09-15', '2023-09-16', '2023-09-17', '2023-09-18', '2023-09-15', '2023-09-16', '2023-09-17', '2023-09-18', '2023-09-15', '2023-09-15']\n",
        "}\n",
        "\n",
        "# Convert to DataFrame\n",
        "sales_df = pd.DataFrame(data)\n",
        "\n",
        "# Introduce duplicates\n",
        "sales_df = pd.concat([sales_df, sales_df.iloc[1:3], sales_df.iloc[6:8]], ignore_index=True)\n",
        "\n",
        "# Show the dataset with duplicates\n",
        "print(\"Original Sales Dataset with Duplicates:\")\n",
        "print(sales_df)\n",
        "\n",
        "# Detect duplicates\n",
        "duplicates = sales_df.duplicated()\n",
        "print(\"\\nDuplicate Rows:\")\n",
        "print(sales_df[duplicates])\n",
        "\n",
        "# Count duplicates before removal\n",
        "before_count = sales_df.duplicated().sum()\n",
        "\n",
        "# Remove duplicates\n",
        "sales_cleaned_df = sales_df.drop_duplicates()\n",
        "\n",
        "# Count duplicates after removal\n",
        "after_count = sales_cleaned_df.duplicated().sum()\n",
        "\n",
        "# Show the cleaned dataset\n",
        "print(\"\\nCleaned Sales Dataset (Duplicates Removed):\")\n",
        "print(sales_cleaned_df)\n",
        "\n",
        "# Show duplicate counts\n",
        "print(f\"\\nNumber of Duplicates Before Removal: {before_count}\")\n",
        "print(f\"Number of Duplicates After Removal: {after_count}\")\n"
      ]
    },
    {
      "cell_type": "code",
      "source": [
        "import pandas as pd\n",
        "\n",
        "# Step 1: Create a sample employee dataset with incorrect data types\n",
        "data = {\n",
        "    'Employee_ID': [101, 102, 103, 104, 105],\n",
        "    'Name': ['John', 'Anna', 'Peter', 'Linda', 'James'],\n",
        "    'Salary': ['$50000', '$55000', '$60000', '$48000', '$52000'],  # Salary as string\n",
        "    'Joining_Date': ['2022-01-15', '2021-05-20', '2020-09-10', '2019-07-25', '2018-11-30'],  # Joining date as string\n",
        "}\n",
        "\n",
        "# Convert to DataFrame\n",
        "employee_df = pd.DataFrame(data)\n",
        "\n",
        "# Show the dataset with incorrect data types\n",
        "print(\"Original Employee Dataset with Incorrect Data Types:\")\n",
        "print(employee_df)\n",
        "\n",
        "# Step 2: Convert 'Salary' from string to numeric by removing the '$' sign\n",
        "employee_df['Salary'] = employee_df['Salary'].replace({'\\$': ''}, regex=True).astype(float)\n",
        "\n",
        "# Convert 'Joining_Date' from string to datetime\n",
        "employee_df['Joining_Date'] = pd.to_datetime(employee_df['Joining_Date'], format='%Y-%m-%d')\n",
        "\n",
        "# Step 3: Show the dataset with corrected data types\n",
        "print(\"\\nEmployee Dataset with Corrected Data Types:\")\n",
        "print(employee_df)\n",
        "\n",
        "# Show corrected data types\n",
        "print(\"\\nCorrected Data Types:\")\n",
        "print(employee_df.dtypes)\n"
      ],
      "metadata": {
        "colab": {
          "base_uri": "https://localhost:8080/"
        },
        "id": "zxcAV-DQ-tJ9",
        "outputId": "a0f5457a-db52-49c0-c52d-267d2b8d3e4d"
      },
      "execution_count": 2,
      "outputs": [
        {
          "output_type": "stream",
          "name": "stdout",
          "text": [
            "Original Employee Dataset with Incorrect Data Types:\n",
            "   Employee_ID   Name  Salary Joining_Date\n",
            "0          101   John  $50000   2022-01-15\n",
            "1          102   Anna  $55000   2021-05-20\n",
            "2          103  Peter  $60000   2020-09-10\n",
            "3          104  Linda  $48000   2019-07-25\n",
            "4          105  James  $52000   2018-11-30\n",
            "\n",
            "Employee Dataset with Corrected Data Types:\n",
            "   Employee_ID   Name   Salary Joining_Date\n",
            "0          101   John  50000.0   2022-01-15\n",
            "1          102   Anna  55000.0   2021-05-20\n",
            "2          103  Peter  60000.0   2020-09-10\n",
            "3          104  Linda  48000.0   2019-07-25\n",
            "4          105  James  52000.0   2018-11-30\n",
            "\n",
            "Corrected Data Types:\n",
            "Employee_ID              int64\n",
            "Name                    object\n",
            "Salary                 float64\n",
            "Joining_Date    datetime64[ns]\n",
            "dtype: object\n"
          ]
        },
        {
          "output_type": "stream",
          "name": "stderr",
          "text": [
            "<>:19: SyntaxWarning: invalid escape sequence '\\$'\n",
            "<>:19: SyntaxWarning: invalid escape sequence '\\$'\n",
            "/tmp/ipython-input-4191827640.py:19: SyntaxWarning: invalid escape sequence '\\$'\n",
            "  employee_df['Salary'] = employee_df['Salary'].replace({'\\$': ''}, regex=True).astype(float)\n"
          ]
        }
      ]
    }
  ]
}