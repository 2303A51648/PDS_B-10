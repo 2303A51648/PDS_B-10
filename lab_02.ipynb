{
  "nbformat": 4,
  "nbformat_minor": 0,
  "metadata": {
    "colab": {
      "provenance": [],
      "include_colab_link": true
    },
    "kernelspec": {
      "name": "python3",
      "display_name": "Python 3"
    },
    "language_info": {
      "name": "python"
    }
  },
  "cells": [
    {
      "cell_type": "markdown",
      "metadata": {
        "id": "view-in-github",
        "colab_type": "text"
      },
      "source": [
        "<a href=\"https://colab.research.google.com/github/2303A51648/PDS_B-10/blob/main/lab_02.ipynb\" target=\"_parent\"><img src=\"https://colab.research.google.com/assets/colab-badge.svg\" alt=\"Open In Colab\"/></a>"
      ]
    },
    {
      "cell_type": "code",
      "execution_count": null,
      "metadata": {
        "id": "5d0xLdg95kHr"
      },
      "outputs": [],
      "source": [
        "import numpy as np\n",
        "import pandas as pd"
      ]
    },
    {
      "cell_type": "code",
      "source": [
        "student_data=np.array([\n",
        "    [56,85,96],\n",
        "    [85,36,54],\n",
        "    [78,96,65],\n",
        "    [78,52,57],\n",
        "    [65,85,87]\n",
        "]);"
      ],
      "metadata": {
        "id": "r2QvTPdy508W"
      },
      "execution_count": null,
      "outputs": []
    },
    {
      "cell_type": "code",
      "source": [
        "avg=student_data.mean(axis=1)\n",
        "print(avg)"
      ],
      "metadata": {
        "colab": {
          "base_uri": "https://localhost:8080/"
        },
        "id": "c4EWG5026i2h",
        "outputId": "1ae1ea55-82dc-4352-8d27-cb6f3ecd8769"
      },
      "execution_count": null,
      "outputs": [
        {
          "output_type": "stream",
          "name": "stdout",
          "text": [
            "[79.         58.33333333 79.66666667 62.33333333 79.        ]\n"
          ]
        }
      ]
    },
    {
      "cell_type": "code",
      "source": [
        "maximum_score=student_data.max(axis=1)\n",
        "print(maximum_score)"
      ],
      "metadata": {
        "colab": {
          "base_uri": "https://localhost:8080/"
        },
        "id": "9i_mVRjl63ki",
        "outputId": "3f34e304-00b1-4ea6-d36d-11a5a5670dfa"
      },
      "execution_count": null,
      "outputs": [
        {
          "output_type": "stream",
          "name": "stdout",
          "text": [
            "[96 85 96 78 87]\n"
          ]
        }
      ]
    },
    {
      "cell_type": "code",
      "source": [
        "minimum_score=student_data.min(axis=1)\n",
        "print(minimum_score)"
      ],
      "metadata": {
        "colab": {
          "base_uri": "https://localhost:8080/"
        },
        "id": "FkSTQgxs7DXp",
        "outputId": "3ec808dd-0b70-4188-c0df-f8b20c3ff6dc"
      },
      "execution_count": null,
      "outputs": [
        {
          "output_type": "stream",
          "name": "stdout",
          "text": [
            "[56 36 65 52 65]\n"
          ]
        }
      ]
    },
    {
      "cell_type": "code",
      "source": [
        "student_data[0:5]"
      ],
      "metadata": {
        "colab": {
          "base_uri": "https://localhost:8080/"
        },
        "id": "AfV7rRvH7MJE",
        "outputId": "407b32cd-484e-4b4d-a349-e2d8abbf20b2"
      },
      "execution_count": null,
      "outputs": [
        {
          "output_type": "execute_result",
          "data": {
            "text/plain": [
              "array([[56, 85, 96],\n",
              "       [85, 36, 54],\n",
              "       [78, 96, 65],\n",
              "       [78, 52, 57],\n",
              "       [65, 85, 87]])"
            ]
          },
          "metadata": {},
          "execution_count": 6
        }
      ]
    },
    {
      "cell_type": "code",
      "source": [
        "student_data[student_data>80]"
      ],
      "metadata": {
        "colab": {
          "base_uri": "https://localhost:8080/"
        },
        "id": "CNlgYoqw8MQ4",
        "outputId": "ce233021-4b52-4c10-f2da-043e41cb445f"
      },
      "execution_count": null,
      "outputs": [
        {
          "output_type": "execute_result",
          "data": {
            "text/plain": [
              "array([85, 96, 85, 96, 85, 87])"
            ]
          },
          "metadata": {},
          "execution_count": 7
        }
      ]
    },
    {
      "cell_type": "code",
      "source": [
        " studentmarksabove_80=student_data[student_data[:, 0] > 80]"
      ],
      "metadata": {
        "id": "OKQ0-M057S7k"
      },
      "execution_count": null,
      "outputs": []
    },
    {
      "cell_type": "code",
      "source": [
        "studentmarksabove_80"
      ],
      "metadata": {
        "colab": {
          "base_uri": "https://localhost:8080/"
        },
        "id": "f0ouYI5G7oIV",
        "outputId": "abd10639-679f-423a-aa12-6ea52d18d052"
      },
      "execution_count": null,
      "outputs": [
        {
          "output_type": "execute_result",
          "data": {
            "text/plain": [
              "array([[85, 36, 54]])"
            ]
          },
          "metadata": {},
          "execution_count": 9
        }
      ]
    },
    {
      "cell_type": "code",
      "source": [
        "reshaped=student_data.T"
      ],
      "metadata": {
        "id": "JHbgAiuc8H55"
      },
      "execution_count": null,
      "outputs": []
    },
    {
      "cell_type": "code",
      "source": [
        "reshaped"
      ],
      "metadata": {
        "colab": {
          "base_uri": "https://localhost:8080/"
        },
        "id": "gJl5uhuU8WUB",
        "outputId": "b1b4044c-2991-4480-ef5d-172ac3e8ea6d"
      },
      "execution_count": null,
      "outputs": [
        {
          "output_type": "execute_result",
          "data": {
            "text/plain": [
              "array([[56, 85, 78, 78, 65],\n",
              "       [85, 36, 96, 52, 85],\n",
              "       [96, 54, 65, 57, 87]])"
            ]
          },
          "metadata": {},
          "execution_count": 11
        }
      ]
    },
    {
      "cell_type": "code",
      "source": [
        "print(\"\\nObservations:\")\n",
        "print(\"- Students 2, 4, and 6 are consistent high performers.\")\n",
        "print(\"- Science marks are generally higher than Math & English.\")\n",
        "print(\"- A few students (e.g., Student 8) need improvement across subjects.\")"
      ],
      "metadata": {
        "colab": {
          "base_uri": "https://localhost:8080/"
        },
        "id": "7TuWUuXk8jWS",
        "outputId": "219178b0-6180-4282-bfe0-9382f77a50b7"
      },
      "execution_count": null,
      "outputs": [
        {
          "output_type": "stream",
          "name": "stdout",
          "text": [
            "\n",
            "Observations:\n",
            "- Students 2, 4, and 6 are consistent high performers.\n",
            "- Science marks are generally higher than Math & English.\n",
            "- A few students (e.g., Student 8) need improvement across subjects.\n"
          ]
        }
      ]
    },
    {
      "cell_type": "code",
      "source": [],
      "metadata": {
        "id": "JSvqPuol8yxB"
      },
      "execution_count": null,
      "outputs": []
    }
  ]
}